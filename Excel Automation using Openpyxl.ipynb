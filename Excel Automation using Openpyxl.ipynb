{
 "cells": [
  {
   "cell_type": "markdown",
   "id": "e30bf33c-2823-4a9a-bae7-ebcef3e8a55e",
   "metadata": {},
   "source": [
    "<h1 style=\"text-align: center; color: blue; font-weight: bold; font-size: 30px;\"> \n",
    "   Automating Excel tasks with openpyxl <br>\n",
    "   ......................................................................................................................\n",
    "\n",
    "</h1>"
   ]
  },
  {
   "cell_type": "markdown",
   "id": "d9bcada2-1d9b-46cb-a1b2-003296bb9e05",
   "metadata": {},
   "source": [
    "#### Advantages :\n",
    "Automating Excel tasks with openpyxl allows users to efficiently manage and manipulate Excel files without the need for manual intervention. This Python library enables automating repetitive tasks such as data entry, formatting, chart generation, and calculation updates. By leveraging openpyxl, users can programmatically create, modify, and read Excel workbooks, making it ideal for tasks like batch processing of reports, importing and exporting data between applications, or applying complex formulas across large datasets. This automation saves time, reduces errors, and enhances productivity by enabling users to handle large volumes of data seamlessly."
   ]
  },
  {
   "cell_type": "markdown",
   "id": "ee55fdda-3988-448b-8620-a86ab550ce32",
   "metadata": {},
   "source": [
    "#### About Dataset:\n",
    "The healthcare-stroke dataset contains information about patients who have had a stroke. It typically includes features such as age, gender, hypertension, heart disease, smoking status, work type, marital status, body mass index (BMI), glucose levels, and whether the patient has experienced a stroke. The dataset is used to analyze factors that contribute to stroke risk and can be used for predictive modeling to identify individuals at higher risk of having a stroke."
   ]
  },
  {
   "cell_type": "code",
   "execution_count": 1,
   "id": "c837d362-b4cf-4865-b423-aa703095dc21",
   "metadata": {},
   "outputs": [],
   "source": [
    "from openpyxl import Workbook, load_workbook\n",
    "from openpyxl.styles import PatternFill\n",
    "from openpyxl.chart import BarChart, Reference\n",
    "import pandas as pd\n"
   ]
  },
  {
   "cell_type": "code",
   "execution_count": 2,
   "id": "83ed71a1-cf55-422c-880d-72e611d35ae9",
   "metadata": {},
   "outputs": [],
   "source": [
    "# Load the dataset into a pandas DataFrame\n",
    "file_path = \"healthcare-stroke-data.xlsx\"  # Update with your file path\n",
    "data = pd.read_excel(file_path)"
   ]
  },
  {
   "cell_type": "code",
   "execution_count": 23,
   "id": "8f2d8f3e-0c12-41e8-9c18-a472628fdc8e",
   "metadata": {},
   "outputs": [
    {
     "data": {
      "text/html": [
       "<div>\n",
       "<style scoped>\n",
       "    .dataframe tbody tr th:only-of-type {\n",
       "        vertical-align: middle;\n",
       "    }\n",
       "\n",
       "    .dataframe tbody tr th {\n",
       "        vertical-align: top;\n",
       "    }\n",
       "\n",
       "    .dataframe thead th {\n",
       "        text-align: right;\n",
       "    }\n",
       "</style>\n",
       "<table border=\"1\" class=\"dataframe\">\n",
       "  <thead>\n",
       "    <tr style=\"text-align: right;\">\n",
       "      <th></th>\n",
       "      <th>gender</th>\n",
       "      <th>age</th>\n",
       "      <th>hypertension</th>\n",
       "      <th>ever_married</th>\n",
       "      <th>work_type</th>\n",
       "      <th>Residence_type</th>\n",
       "      <th>avg_glucose_level</th>\n",
       "      <th>bmi</th>\n",
       "      <th>smoking_status</th>\n",
       "      <th>stroke</th>\n",
       "    </tr>\n",
       "  </thead>\n",
       "  <tbody>\n",
       "    <tr>\n",
       "      <th>0</th>\n",
       "      <td>Male</td>\n",
       "      <td>67.0</td>\n",
       "      <td>0</td>\n",
       "      <td>Yes</td>\n",
       "      <td>Private</td>\n",
       "      <td>Urban</td>\n",
       "      <td>228.69</td>\n",
       "      <td>36.6</td>\n",
       "      <td>formerly smoked</td>\n",
       "      <td>1</td>\n",
       "    </tr>\n",
       "    <tr>\n",
       "      <th>1</th>\n",
       "      <td>Female</td>\n",
       "      <td>61.0</td>\n",
       "      <td>0</td>\n",
       "      <td>Yes</td>\n",
       "      <td>Self-employed</td>\n",
       "      <td>Rural</td>\n",
       "      <td>202.21</td>\n",
       "      <td>32.5</td>\n",
       "      <td>never smoked</td>\n",
       "      <td>1</td>\n",
       "    </tr>\n",
       "    <tr>\n",
       "      <th>2</th>\n",
       "      <td>Male</td>\n",
       "      <td>80.0</td>\n",
       "      <td>0</td>\n",
       "      <td>Yes</td>\n",
       "      <td>Private</td>\n",
       "      <td>Rural</td>\n",
       "      <td>105.92</td>\n",
       "      <td>32.5</td>\n",
       "      <td>never smoked</td>\n",
       "      <td>1</td>\n",
       "    </tr>\n",
       "  </tbody>\n",
       "</table>\n",
       "</div>"
      ],
      "text/plain": [
       "   gender   age  hypertension ever_married      work_type Residence_type  \\\n",
       "0    Male  67.0             0          Yes        Private          Urban   \n",
       "1  Female  61.0             0          Yes  Self-employed          Rural   \n",
       "2    Male  80.0             0          Yes        Private          Rural   \n",
       "\n",
       "   avg_glucose_level   bmi   smoking_status  stroke  \n",
       "0             228.69  36.6  formerly smoked       1  \n",
       "1             202.21  32.5     never smoked       1  \n",
       "2             105.92  32.5     never smoked       1  "
      ]
     },
     "execution_count": 23,
     "metadata": {},
     "output_type": "execute_result"
    }
   ],
   "source": [
    "data.head(3)"
   ]
  },
  {
   "cell_type": "code",
   "execution_count": 3,
   "id": "4f9d2893-c1d2-4eaa-b47c-10cb4168ff73",
   "metadata": {},
   "outputs": [],
   "source": [
    "# Load the workbook\n",
    "wb = load_workbook(file_path)\n",
    "sheet = wb.active"
   ]
  },
  {
   "cell_type": "markdown",
   "id": "716d911e-5115-4698-9614-684a2df24855",
   "metadata": {},
   "source": [
    "\n",
    "<h1 style=\"text-align: center; color: blue; font-weight: bold; font-size: 20px;\">   1. Filter and Save High-Risk Stroke Patients </font>"
   ]
  },
  {
   "cell_type": "code",
   "execution_count": 5,
   "id": "b102d14d-1c32-451c-b1a2-b6458c271a2f",
   "metadata": {},
   "outputs": [],
   "source": [
    "high_risk_wb = Workbook()\n",
    "high_risk_sheet = high_risk_wb.active\n",
    "high_risk_sheet.title = \"High Risk Patients\""
   ]
  },
  {
   "cell_type": "code",
   "execution_count": 6,
   "id": "ecaf69d7-0540-4174-8b33-308330b3dc02",
   "metadata": {},
   "outputs": [],
   "source": [
    "# Copy headers\n",
    "for col in sheet.iter_cols(1, sheet.max_column):\n",
    "    high_risk_sheet.cell(row=1, column=col[0].column).value = col[0].value"
   ]
  },
  {
   "cell_type": "code",
   "execution_count": 7,
   "id": "df101ae9-3719-4068-bb77-a67f38ab6883",
   "metadata": {},
   "outputs": [],
   "source": [
    "# Filter data for stroke == 1\n",
    "row_index = 2\n",
    "for row in sheet.iter_rows(min_row=2, max_row=sheet.max_row, values_only=True):\n",
    "    if row[-1] == 1:  # Stroke column\n",
    "        for col_index, value in enumerate(row, start=1):\n",
    "            high_risk_sheet.cell(row=row_index, column=col_index).value = value\n",
    "        row_index += 1"
   ]
  },
  {
   "cell_type": "code",
   "execution_count": 9,
   "id": "f3c54dda-6911-4f48-921b-277fedf9d96f",
   "metadata": {},
   "outputs": [],
   "source": [
    "# Save the filtered high-risk patients\n",
    "high_risk_wb.save(\"high_risk_patients.xlsx\")"
   ]
  },
  {
   "cell_type": "code",
   "execution_count": 25,
   "id": "fae029e6-3740-4469-bf04-cc9a79d53338",
   "metadata": {},
   "outputs": [
    {
     "data": {
      "text/html": [
       "<div>\n",
       "<style scoped>\n",
       "    .dataframe tbody tr th:only-of-type {\n",
       "        vertical-align: middle;\n",
       "    }\n",
       "\n",
       "    .dataframe tbody tr th {\n",
       "        vertical-align: top;\n",
       "    }\n",
       "\n",
       "    .dataframe thead th {\n",
       "        text-align: right;\n",
       "    }\n",
       "</style>\n",
       "<table border=\"1\" class=\"dataframe\">\n",
       "  <thead>\n",
       "    <tr style=\"text-align: right;\">\n",
       "      <th></th>\n",
       "      <th>gender</th>\n",
       "      <th>age</th>\n",
       "      <th>hypertension</th>\n",
       "      <th>ever_married</th>\n",
       "      <th>work_type</th>\n",
       "      <th>Residence_type</th>\n",
       "      <th>avg_glucose_level</th>\n",
       "      <th>bmi</th>\n",
       "      <th>smoking_status</th>\n",
       "      <th>stroke</th>\n",
       "    </tr>\n",
       "  </thead>\n",
       "  <tbody>\n",
       "    <tr>\n",
       "      <th>0</th>\n",
       "      <td>Male</td>\n",
       "      <td>67.0</td>\n",
       "      <td>0</td>\n",
       "      <td>Yes</td>\n",
       "      <td>Private</td>\n",
       "      <td>Urban</td>\n",
       "      <td>228.69</td>\n",
       "      <td>36.6</td>\n",
       "      <td>formerly smoked</td>\n",
       "      <td>1</td>\n",
       "    </tr>\n",
       "    <tr>\n",
       "      <th>1</th>\n",
       "      <td>Female</td>\n",
       "      <td>61.0</td>\n",
       "      <td>0</td>\n",
       "      <td>Yes</td>\n",
       "      <td>Self-employed</td>\n",
       "      <td>Rural</td>\n",
       "      <td>202.21</td>\n",
       "      <td>32.5</td>\n",
       "      <td>never smoked</td>\n",
       "      <td>1</td>\n",
       "    </tr>\n",
       "    <tr>\n",
       "      <th>2</th>\n",
       "      <td>Male</td>\n",
       "      <td>80.0</td>\n",
       "      <td>0</td>\n",
       "      <td>Yes</td>\n",
       "      <td>Private</td>\n",
       "      <td>Rural</td>\n",
       "      <td>105.92</td>\n",
       "      <td>32.5</td>\n",
       "      <td>never smoked</td>\n",
       "      <td>1</td>\n",
       "    </tr>\n",
       "  </tbody>\n",
       "</table>\n",
       "</div>"
      ],
      "text/plain": [
       "   gender   age  hypertension ever_married      work_type Residence_type  \\\n",
       "0    Male  67.0             0          Yes        Private          Urban   \n",
       "1  Female  61.0             0          Yes  Self-employed          Rural   \n",
       "2    Male  80.0             0          Yes        Private          Rural   \n",
       "\n",
       "   avg_glucose_level   bmi   smoking_status  stroke  \n",
       "0             228.69  36.6  formerly smoked       1  \n",
       "1             202.21  32.5     never smoked       1  \n",
       "2             105.92  32.5     never smoked       1  "
      ]
     },
     "execution_count": 25,
     "metadata": {},
     "output_type": "execute_result"
    }
   ],
   "source": [
    "df=pd.read_excel('high_risk_patients.xlsx')\n",
    "df.head(3)"
   ]
  },
  {
   "cell_type": "code",
   "execution_count": 27,
   "id": "d62ca2a9-542f-4b96-b611-8ab0d2f0e3d2",
   "metadata": {},
   "outputs": [
    {
     "data": {
      "text/html": [
       "<div>\n",
       "<style scoped>\n",
       "    .dataframe tbody tr th:only-of-type {\n",
       "        vertical-align: middle;\n",
       "    }\n",
       "\n",
       "    .dataframe tbody tr th {\n",
       "        vertical-align: top;\n",
       "    }\n",
       "\n",
       "    .dataframe thead th {\n",
       "        text-align: right;\n",
       "    }\n",
       "</style>\n",
       "<table border=\"1\" class=\"dataframe\">\n",
       "  <thead>\n",
       "    <tr style=\"text-align: right;\">\n",
       "      <th></th>\n",
       "      <th>gender</th>\n",
       "      <th>age</th>\n",
       "      <th>hypertension</th>\n",
       "      <th>ever_married</th>\n",
       "      <th>work_type</th>\n",
       "      <th>Residence_type</th>\n",
       "      <th>avg_glucose_level</th>\n",
       "      <th>bmi</th>\n",
       "      <th>smoking_status</th>\n",
       "      <th>stroke</th>\n",
       "    </tr>\n",
       "  </thead>\n",
       "  <tbody>\n",
       "    <tr>\n",
       "      <th>246</th>\n",
       "      <td>Female</td>\n",
       "      <td>75.0</td>\n",
       "      <td>0</td>\n",
       "      <td>Yes</td>\n",
       "      <td>Self-employed</td>\n",
       "      <td>Rural</td>\n",
       "      <td>78.80</td>\n",
       "      <td>29.3</td>\n",
       "      <td>formerly smoked</td>\n",
       "      <td>1</td>\n",
       "    </tr>\n",
       "    <tr>\n",
       "      <th>247</th>\n",
       "      <td>Male</td>\n",
       "      <td>71.0</td>\n",
       "      <td>1</td>\n",
       "      <td>Yes</td>\n",
       "      <td>Self-employed</td>\n",
       "      <td>Rural</td>\n",
       "      <td>87.80</td>\n",
       "      <td>32.5</td>\n",
       "      <td>Unknown</td>\n",
       "      <td>1</td>\n",
       "    </tr>\n",
       "    <tr>\n",
       "      <th>248</th>\n",
       "      <td>Female</td>\n",
       "      <td>78.0</td>\n",
       "      <td>0</td>\n",
       "      <td>Yes</td>\n",
       "      <td>Private</td>\n",
       "      <td>Rural</td>\n",
       "      <td>78.81</td>\n",
       "      <td>19.6</td>\n",
       "      <td>Unknown</td>\n",
       "      <td>1</td>\n",
       "    </tr>\n",
       "  </tbody>\n",
       "</table>\n",
       "</div>"
      ],
      "text/plain": [
       "     gender   age  hypertension ever_married      work_type Residence_type  \\\n",
       "246  Female  75.0             0          Yes  Self-employed          Rural   \n",
       "247    Male  71.0             1          Yes  Self-employed          Rural   \n",
       "248  Female  78.0             0          Yes        Private          Rural   \n",
       "\n",
       "     avg_glucose_level   bmi   smoking_status  stroke  \n",
       "246              78.80  29.3  formerly smoked       1  \n",
       "247              87.80  32.5          Unknown       1  \n",
       "248              78.81  19.6          Unknown       1  "
      ]
     },
     "execution_count": 27,
     "metadata": {},
     "output_type": "execute_result"
    }
   ],
   "source": [
    "df.tail(3)"
   ]
  },
  {
   "cell_type": "markdown",
   "id": "5bb2098b-957e-436f-b9a7-e18b9fb65322",
   "metadata": {},
   "source": [
    "<font color=green> Here only the high risk patients ( ie; stroke value with only 1 ) are filtered out and saved."
   ]
  },
  {
   "cell_type": "markdown",
   "id": "5749a655-d22c-43f5-9057-78a036c732a2",
   "metadata": {},
   "source": [
    "<h1 style=\"text-align: center; color: blue; font-weight: bold; font-size: 20px;\">2. Summary Report"
   ]
  },
  {
   "cell_type": "code",
   "execution_count": 30,
   "id": "855836d7-4cdf-4efb-b15c-1714fa054f74",
   "metadata": {},
   "outputs": [],
   "source": [
    "\n",
    "summary_sheet = wb.create_sheet(title=\"Summary Report\")\n",
    "summary_sheet[\"A1\"] = \"Metric\"\n",
    "summary_sheet[\"B1\"] = \"Value\"\n",
    "summary_stats = {\n",
    "    \"Average Age\": data[\"age\"].mean(),\n",
    "    \"Average BMI\": data[\"bmi\"].mean(),\n",
    "    \"Average Glucose Level\": data[\"avg_glucose_level\"].mean(),\n",
    "    \"Total Patients\": len(data),\n",
    "    \"Stroke Cases\": data[\"stroke\"].sum()\n",
    "}\n",
    "for idx, (metric, value) in enumerate(summary_stats.items(), start=2):\n",
    "    summary_sheet[f\"A{idx}\"] = metric\n",
    "    summary_sheet[f\"B{idx}\"] = round(value, 2)\n"
   ]
  },
  {
   "cell_type": "markdown",
   "id": "e4ef483f-1582-45fe-aaee-71960476312e",
   "metadata": {},
   "source": [
    "<h1 style=\"text-align: center; color: blue; font-weight: bold; font-size: 20px;\">  3. Categorical Data Count"
   ]
  },
  {
   "cell_type": "code",
   "execution_count": 36,
   "id": "ad1f2f40-52bb-4c58-acff-e1471bbc07dc",
   "metadata": {},
   "outputs": [],
   "source": [
    "category_sheet = wb.create_sheet(title=\"Category Counts\")\n",
    "category_sheet[\"A1\"] = \"Category Type\"\n",
    "category_sheet[\"B1\"] = \"Category\"\n",
    "category_sheet[\"C1\"] = \"Count\"\n",
    "\n",
    "# Flatten and write category counts\n",
    "gender_counts = data[\"gender\"].value_counts()\n",
    "smoking_counts = data[\"smoking_status\"].value_counts()\n",
    "category_data = pd.concat([gender_counts, smoking_counts], keys=[\"Gender\", \"Smoking Status\"])\n",
    "category_data_flat = category_data.reset_index()\n",
    "category_data_flat.columns = [\"Category Type\", \"Category\", \"Count\"]\n",
    "\n",
    "for idx, row in category_data_flat.iterrows():\n",
    "    category_sheet[f\"A{idx+2}\"] = row[\"Category Type\"]\n",
    "    category_sheet[f\"B{idx+2}\"] = row[\"Category\"]\n",
    "    category_sheet[f\"C{idx+2}\"] = row[\"Count\"]"
   ]
  },
  {
   "cell_type": "markdown",
   "id": "ee913f97-7087-43e2-9a4f-d6ae758b6402",
   "metadata": {},
   "source": [
    "<h1 style=\"text-align: center; color: blue; font-weight: bold; font-size: 20px;\">  4. Highlight Critical Cases"
   ]
  },
  {
   "cell_type": "code",
   "execution_count": 41,
   "id": "07865436-7a24-4517-b74b-ac341361d16c",
   "metadata": {},
   "outputs": [],
   "source": [
    "fill_red = PatternFill(start_color=\"FFC7CE\", end_color=\"FFC7CE\", fill_type=\"solid\")\n",
    "\n",
    "for row in sheet.iter_rows(min_row=2, max_row=sheet.max_row):\n",
    "    glucose = row[6].value  # avg_glucose_level\n",
    "    bmi = row[7].value  # bmi\n",
    "    if glucose > 200 or bmi > 30:\n",
    "        for cell in row:\n",
    "            cell.fill = fill_red"
   ]
  },
  {
   "cell_type": "markdown",
   "id": "4b4efbb6-5d01-4d17-9d9d-acc6800eb9e8",
   "metadata": {},
   "source": [
    "<h1 style=\"text-align: center; color: blue; font-weight: bold; font-size: 20px;\">   5. Add a Chart (Stroke Count by Gender)"
   ]
  },
  {
   "cell_type": "code",
   "execution_count": 59,
   "id": "72d3baac-96f2-4e78-82b0-5b0405d3dc02",
   "metadata": {},
   "outputs": [
    {
     "name": "stdout",
     "output_type": "stream",
     "text": [
      "File saved successfully as automated_healthcare_analysis.xlsx.\n"
     ]
    }
   ],
   "source": [
    "\n",
    "chart_sheet = wb.create_sheet(title=\"Charts\")\n",
    "chart_sheet.append([\"Gender\", \"Stroke Count\"])\n",
    "stroke_counts = data[data[\"stroke\"] == 1][\"gender\"].value_counts()\n",
    "\n",
    "for gender, count in stroke_counts.items():\n",
    "    chart_sheet.append([gender, count])\n",
    "\n",
    "chart = BarChart()\n",
    "data_ref = Reference(chart_sheet, min_col=2, min_row=1, max_col=2, max_row=len(stroke_counts) + 1)\n",
    "categories_ref = Reference(chart_sheet, min_col=1, min_row=2, max_row=len(stroke_counts) + 1)\n",
    "chart.add_data(data_ref, titles_from_data=True)\n",
    "chart.set_categories(categories_ref)\n",
    "chart.title = \"Stroke Count by Gender\"\n",
    "chart.x_axis.title = \"Gender\"\n",
    "chart.y_axis.title = \"Count\"\n",
    "\n",
    "chart_sheet.add_chart(chart, \"E5\")\n",
    "output_file = \"automated_healthcare_analysis.xlsx\"  # Update the path if needed\n",
    "wb.save(output_file)\n",
    "print(f\"File saved successfully as {output_file}.\")\n"
   ]
  }
 ],
 "metadata": {
  "kernelspec": {
   "display_name": "Python [conda env:base] *",
   "language": "python",
   "name": "conda-base-py"
  },
  "language_info": {
   "codemirror_mode": {
    "name": "ipython",
    "version": 3
   },
   "file_extension": ".py",
   "mimetype": "text/x-python",
   "name": "python",
   "nbconvert_exporter": "python",
   "pygments_lexer": "ipython3",
   "version": "3.12.7"
  }
 },
 "nbformat": 4,
 "nbformat_minor": 5
}
